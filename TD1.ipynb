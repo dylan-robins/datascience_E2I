{
 "cells": [
  {
   "cell_type": "markdown",
   "metadata": {},
   "source": [
    "# TD 1\n",
    "\n",
    "Nous travaillerons sur un jeu de données issues de la base d’exemples de MATLAB qui se trouvent dans le fichier Carsmall3.xlsx. Ces mesures concernent des paramètres de voitures des années 1970 à 1982."
   ]
  },
  {
   "cell_type": "markdown",
   "metadata": {},
   "source": [
    "## Présentation du jeu de données"
   ]
  },
  {
   "cell_type": "code",
   "execution_count": null,
   "metadata": {},
   "outputs": [],
   "source": [
    "import pandas as pd\n",
    "\n",
    "df = pd.read_excel(\"datasets/Carsmall3.xlsx\", index_col=0)\n",
    "df"
   ]
  },
  {
   "cell_type": "markdown",
   "metadata": {},
   "source": [
    "Le tableau contient des données de types hétérogènes: des chaines de caractère (type `object`), des entiers (`int64`) et des flottants (`float64`). Cependant la colonne Model_Year tient plus d'une donnée qualitative que d'une donnée quantitative, malgré son type scalaire."
   ]
  },
  {
   "cell_type": "code",
   "execution_count": null,
   "metadata": {},
   "outputs": [],
   "source": [
    "print(df.dtypes)"
   ]
  },
  {
   "cell_type": "markdown",
   "metadata": {},
   "source": [
    "Pour vérifier qu'il n'y a pas de données manquantes, on peut utiliser la fonction `isnull()`, qui nous renvoie un DataFrame contenant pour chaque cellule un booléen indiquant si la cellule est vide ou invalide. Ensuite, on peut aggréger les informations et obtenir si *une au moins une* cellule est vide ou invalide avec `values.any()`"
   ]
  },
  {
   "cell_type": "code",
   "execution_count": null,
   "metadata": {},
   "outputs": [],
   "source": [
    "print(f\"Le tableau comporte des données manquantes: {df.isnull().values.any()}\")"
   ]
  },
  {
   "cell_type": "markdown",
   "metadata": {},
   "source": [
    "## Description des données\n",
    "\n",
    "On peut obtenir un aperçu global rapide avec la fonction `describe`:"
   ]
  },
  {
   "cell_type": "code",
   "execution_count": null,
   "metadata": {},
   "outputs": [],
   "source": [
    "df.describe()"
   ]
  },
  {
   "cell_type": "code",
   "execution_count": null,
   "metadata": {},
   "outputs": [],
   "source": [
    "import seaborn as sns\n",
    "import pylab as pl\n",
    "sns.set()\n",
    "\n",
    "ax = df.boxplot(column=\"Weight\", by=\"Model_Year\")\n",
    "pl.tight_layout()\n",
    "pl.suptitle(\"Distribution des poids en fonction de l'année\")\n",
    "ax"
   ]
  },
  {
   "cell_type": "code",
   "execution_count": null,
   "metadata": {},
   "outputs": [],
   "source": [
    "df.value_counts(\"Model_Year\").sort_index().plot.line()"
   ]
  },
  {
   "cell_type": "code",
   "execution_count": null,
   "metadata": {},
   "outputs": [],
   "source": [
    "df.value_counts(\"Origin\").plot(kind=\"bar\")"
   ]
  },
  {
   "cell_type": "code",
   "execution_count": null,
   "metadata": {},
   "outputs": [],
   "source": [
    "pd.crosstab(df.Model_Year, df.Origin)"
   ]
  }
 ],
 "metadata": {
  "interpreter": {
   "hash": "b563c4b003505402d7a0fa06abb3fde9bf26d295723b186026fae8d996b17382"
  },
  "kernelspec": {
   "display_name": "Python 3.10.0 64-bit ('traitement_donnees': pyenv)",
   "language": "python",
   "name": "python3"
  },
  "language_info": {
   "codemirror_mode": {
    "name": "ipython",
    "version": 3
   },
   "file_extension": ".py",
   "mimetype": "text/x-python",
   "name": "python",
   "nbconvert_exporter": "python",
   "pygments_lexer": "ipython3",
   "version": "3.8.8"
  }
 },
 "nbformat": 4,
 "nbformat_minor": 2
}
