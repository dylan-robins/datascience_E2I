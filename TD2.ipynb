{
 "cells": [
  {
   "cell_type": "markdown",
   "metadata": {},
   "source": [
    "# Séance 2\n",
    "\n",
    "## 1. Chargement des données"
   ]
  },
  {
   "cell_type": "code",
   "execution_count": null,
   "metadata": {},
   "outputs": [],
   "source": [
    "import pandas as pd\n",
    "import matplotlib.pyplot as plt\n",
    "import numpy as np\n",
    "import seaborn as sns\n",
    "sns.set()\n",
    "\n",
    "df = pd.read_excel(\"datasets/Notes.xlsx\", sheet_name=0, header=0, index_col=0)\n",
    "if df.isnull().values.any():\n",
    "    print(\"Missing data!\")\n",
    "    exit(1)\n",
    "df"
   ]
  },
  {
   "cell_type": "markdown",
   "metadata": {},
   "source": [
    "## 2. Description univariée des variables"
   ]
  },
  {
   "cell_type": "code",
   "execution_count": null,
   "metadata": {},
   "outputs": [],
   "source": [
    "df.boxplot()\n",
    "\n",
    "print(\"Mean:\")\n",
    "print(df.mean())\n",
    "\n",
    "print(\"\\nVariance:\")\n",
    "print(df.var())\n",
    "\n",
    "print(\"\\nStandard deviation:\")\n",
    "print(df.std())"
   ]
  },
  {
   "cell_type": "markdown",
   "metadata": {},
   "source": [
    "**Remarque:** comparaison calcul variance numpy/pandas/formule"
   ]
  },
  {
   "cell_type": "code",
   "execution_count": null,
   "metadata": {},
   "outputs": [],
   "source": [
    "print(\"Pandas native:\", df.MATH.var())\n",
    "\n",
    "print(\"Numpy (default args) :\", np.var(df.MATH.to_numpy(), axis=0))\n",
    "\n",
    "print(\"Numpy (ddof = 1) :\", np.var(df.MATH.to_numpy(), axis=0, ddof=1))\n",
    "\n",
    "math_vals: np.array = df.MATH.to_numpy()\n",
    "print(\"V(x) :\", 1/(math_vals.size) * ((math_vals-math_vals.mean())**2).sum())\n",
    "print(\"S²(x) :\", 1/(math_vals.size - 1) * ((math_vals-math_vals.mean())**2).sum())"
   ]
  },
  {
   "cell_type": "markdown",
   "metadata": {},
   "source": [
    "## 2. Analyse bivariée\n",
    "\n",
    "On utilise un scatter_matrix pour observer les intercorrélations entre nos variables"
   ]
  },
  {
   "cell_type": "code",
   "execution_count": null,
   "metadata": {},
   "outputs": [],
   "source": [
    "pd.plotting.scatter_matrix(df)"
   ]
  },
  {
   "cell_type": "code",
   "execution_count": null,
   "metadata": {},
   "outputs": [],
   "source": [
    "print(\"Covariance:\")\n",
    "print(df.cov())\n",
    "\n",
    "print(\"\\nCorrélation:\")\n",
    "print(df.corr())\n",
    "\n",
    "sns.heatmap(df.corr(), vmin=-1, vmax=1, cmap=\"coolwarm\", annot=True)"
   ]
  },
  {
   "cell_type": "markdown",
   "metadata": {},
   "source": [
    "Explication ACP:\n",
    "\n",
    "$$\\Sigma_x=P D P^{-1}$$\n",
    "\n",
    "$\\Sigma_x$ = Matrice de valeurs propres diagonale (= `acp.explained_variance_`)  \n",
    "$D$ = Matrice de valeurs propres diagonale (= `acp.explained_variance_`)  \n",
    "$P$ = Matrice de passage / matrice des vecteurs propres (= `acp.components_.transpose()`)  "
   ]
  },
  {
   "cell_type": "code",
   "execution_count": null,
   "metadata": {},
   "outputs": [],
   "source": [
    "from sklearn.decomposition import PCA\n",
    "\n",
    "acp = PCA()\n",
    "Xproj = acp.fit_transform(df)\n",
    "print(f\"Valeurs projetées:\\n{Xproj}\\n\")\n",
    "\n",
    "Xpass = acp.components_.transpose()\n",
    "print(f\"Matrice de passage:\\n{Xpass}\\n\")\n",
    "\n",
    "print(f\"Variance par vecteur propre (colonne de Xpass):\\n{acp.explained_variance_}\\n\")\n",
    "print(f\"Contribution par vecteur propre:\\n{acp.explained_variance_ratio_}\\n\")\n",
    "\n",
    "print(f\"Inertie: {acp.explained_variance_.sum()}\")\n",
    "\n",
    "labels = [f\"V{i}\" for i, _ in enumerate(acp.explained_variance_ratio_)]\n",
    "plt.bar(labels, acp.explained_variance_ratio_, width=0.25, label='Variance ratio')\n",
    "plt.plot(labels, acp.explained_variance_ratio_.cumsum(), 'r.-', label='Cumulative sum')\n",
    "plt.title(\"Pareto diagram\")\n",
    "plt.legend()"
   ]
  },
  {
   "cell_type": "markdown",
   "metadata": {},
   "source": [
    "On voit que les deux premiers vecteurs propres suffisent à expliquer presque l'entièreté de la variance: on représente en deux dimensions selons les axes des deux premiers vecteurs:"
   ]
  },
  {
   "cell_type": "code",
   "execution_count": null,
   "metadata": {},
   "outputs": [],
   "source": [
    "plt.scatter(Xproj[:,0], Xproj[:,1])\n",
    "for i, name in enumerate(df.index):\n",
    "    plt.annotate(name, (Xproj[i,0], Xproj[i,1]))"
   ]
  },
  {
   "cell_type": "markdown",
   "metadata": {},
   "source": [
    "### Interprétation des axes\n",
    "\n",
    "On peut regarder les coordonnées dans la matrice de passage:\n",
    "$$\n",
    "V_1 = \\begin{pmatrix}\n",
    "0.5151694 \\\\\n",
    "0.50761286 \\\\\n",
    "0.49227894 \\\\\n",
    "0.48434607\n",
    "\\end{pmatrix} ;\n",
    "V_2 = \\begin{pmatrix}\n",
    "-0.56865175 \\\\\n",
    "-0.3712665 \\\\\n",
    " 0.65815337  \\\\\n",
    " 0.32500849\n",
    "\\end{pmatrix}\n",
    "$$\n",
    "\n",
    "On peut en conclure que:  \n",
    "- $V_1$ est liée aux 4 variables d'entrée de façon positive et ~ égale.\n",
    "- $V_2$ nous indique si l'élève est plus bon en langues qu'en sciences.\n",
    "\n",
    "Si on a des données plus complexes il vaut mieux passer par un cercle de corrélation:"
   ]
  },
  {
   "cell_type": "code",
   "execution_count": null,
   "metadata": {},
   "outputs": [],
   "source": [
    "# Calculate correlations between new data (Xproj) and original columns (df):\n",
    "corvar = np.zeros((len(df.columns), 2))\n",
    "for i, col in enumerate(df.columns):\n",
    "    corvar[i, 0] = np.corrcoef(Xproj[:,0], df.iloc[:, i])[0, 1]\n",
    "    corvar[i, 1] = np.corrcoef(Xproj[:,1], df.iloc[:, i])[0, 1]\n",
    "print(f\"Correlation coefficients:\\n{corvar}\")\n",
    "\n",
    "# Cercle des corrélations\n",
    "fig, axes = plt.subplots(figsize=(8,8))\n",
    "axes.set_xlim(-1,1)\n",
    "axes.set_ylim(-1,1)\n",
    "\n",
    "# On ajoute les axes\n",
    "plt.plot([-1,1],[0,0],color='silver',linestyle='-',linewidth=1)\n",
    "plt.plot([0,0],[-1,1],color='silver',linestyle='-',linewidth=1)\n",
    "# On ajoute un cercle\n",
    "cercle = plt.Circle((0,0),1,color='blue',fill=False)\n",
    "axes.add_artist(cercle)\n",
    "plt.xlabel(\"Composante principale 1\")\n",
    "plt.ylabel(\"Composante principale 2\")\n",
    "plt.title('Cercle des corrélations')\n",
    "plt.scatter(corvar[:,0],corvar[:,1])\n",
    "#affichage des étiquettes (noms des variables)\n",
    "for j, _ in enumerate(df.columns):\n",
    "  plt.annotate(df.columns[j],(corvar[j,0],corvar[j,1]))\n",
    "\n",
    "plt.show()"
   ]
  }
 ],
 "metadata": {
  "interpreter": {
   "hash": "d13539d952f813834be5d0878ec8b49565dae7d547b6c46c4ab31b191853e5cc"
  },
  "kernelspec": {
   "display_name": "Python 3.8.8 64-bit ('anaconda3-2021.05': pyenv)",
   "language": "python",
   "name": "python3"
  },
  "language_info": {
   "codemirror_mode": {
    "name": "ipython",
    "version": 3
   },
   "file_extension": ".py",
   "mimetype": "text/x-python",
   "name": "python",
   "nbconvert_exporter": "python",
   "pygments_lexer": "ipython3",
   "version": "3.8.8"
  }
 },
 "nbformat": 4,
 "nbformat_minor": 2
}
